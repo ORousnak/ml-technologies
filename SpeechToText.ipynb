{
  "nbformat": 4,
  "nbformat_minor": 0,
  "metadata": {
    "colab": {
      "name": "Speech To Text.ipynb",
      "provenance": [],
      "include_colab_link": true
    },
    "kernelspec": {
      "name": "python3",
      "display_name": "Python 3"
    },
    "accelerator": "GPU"
  },
  "cells": [
    {
      "cell_type": "markdown",
      "metadata": {
        "id": "view-in-github",
        "colab_type": "text"
      },
      "source": [
        "<a href=\"https://colab.research.google.com/github/ORousnak/ml-technologies/blob/main/SpeechToText.ipynb\" target=\"_parent\"><img src=\"https://colab.research.google.com/assets/colab-badge.svg\" alt=\"Open In Colab\"/></a>"
      ]
    },
    {
      "cell_type": "markdown",
      "metadata": {
        "id": "SdqM73Ibh8Mp"
      },
      "source": [
        "# mp3 to text with deep speech model\n",
        "\n",
        "---\n",
        "\n",
        "![speech to text](https://uploads-ssl.webflow.com/5985ca0c9abf440001d1f4b0/5a68a52180efb200017181cf_transcription_icon_v2_EN.png =259x)"
      ]
    },
    {
      "cell_type": "code",
      "source": [
        "!python --version"
      ],
      "metadata": {
        "id": "MF6mxeVz5euo",
        "outputId": "6808e083-b5f5-4bea-e1d5-47638fd02600",
        "colab": {
          "base_uri": "https://localhost:8080/"
        }
      },
      "execution_count": 1,
      "outputs": [
        {
          "output_type": "stream",
          "name": "stdout",
          "text": [
            "Python 3.10.12\n"
          ]
        }
      ]
    },
    {
      "cell_type": "code",
      "source": [
        "!sudo apt-get remove python3.10\n",
        "!sudo apt-get install python3.7\n"
      ],
      "metadata": {
        "id": "gv9nV5oOHn-7",
        "outputId": "0f8eab0c-4a53-4e8b-f5e1-a1c3a40f3180",
        "colab": {
          "base_uri": "https://localhost:8080/"
        }
      },
      "execution_count": 2,
      "outputs": [
        {
          "output_type": "stream",
          "name": "stdout",
          "text": [
            "Reading package lists... Done\n",
            "Building dependency tree... Done\n",
            "Reading state information... Done\n",
            "The following packages were automatically installed and are no longer required:\n",
            "  blt distro-info-data gir1.2-glib-2.0 gir1.2-packagekitglib-1.0 libaio1\n",
            "  libappstream4 libboost-atomic-dev libboost-atomic1.74-dev\n",
            "  libboost-atomic1.74.0 libboost-chrono-dev libboost-chrono1.74-dev\n",
            "  libboost-chrono1.74.0 libboost-container-dev libboost-container1.74-dev\n",
            "  libboost-container1.74.0 libboost-context-dev libboost-context1.74-dev\n",
            "  libboost-context1.74.0 libboost-coroutine-dev libboost-coroutine1.74-dev\n",
            "  libboost-coroutine1.74.0 libboost-date-time-dev libboost-date-time1.74-dev\n",
            "  libboost-date-time1.74.0 libboost-exception-dev libboost-exception1.74-dev\n",
            "  libboost-fiber-dev libboost-fiber1.74-dev libboost-fiber1.74.0\n",
            "  libboost-filesystem-dev libboost-filesystem1.74-dev\n",
            "  libboost-filesystem1.74.0 libboost-graph-dev libboost-graph-parallel-dev\n",
            "  libboost-graph-parallel1.74-dev libboost-graph-parallel1.74.0\n",
            "  libboost-graph1.74-dev libboost-graph1.74.0 libboost-iostreams-dev\n",
            "  libboost-iostreams1.74-dev libboost-iostreams1.74.0 libboost-locale-dev\n",
            "  libboost-locale1.74-dev libboost-locale1.74.0 libboost-log-dev\n",
            "  libboost-log1.74-dev libboost-log1.74.0 libboost-math-dev\n",
            "  libboost-math1.74-dev libboost-math1.74.0 libboost-mpi-dev\n",
            "  libboost-mpi1.74-dev libboost-mpi1.74.0 libboost-nowide-dev\n",
            "  libboost-nowide1.74-dev libboost-nowide1.74.0 libboost-numpy-dev\n",
            "  libboost-numpy1.74-dev libboost-numpy1.74.0 libboost-program-options-dev\n",
            "  libboost-program-options1.74-dev libboost-program-options1.74.0\n",
            "  libboost-python1.74.0 libboost-random-dev libboost-random1.74-dev\n",
            "  libboost-random1.74.0 libboost-regex-dev libboost-regex1.74-dev\n",
            "  libboost-regex1.74.0 libboost-serialization-dev\n",
            "  libboost-serialization1.74-dev libboost-serialization1.74.0\n",
            "  libboost-stacktrace-dev libboost-stacktrace1.74-dev\n",
            "  libboost-stacktrace1.74.0 libboost-system-dev libboost-system1.74-dev\n",
            "  libboost-system1.74.0 libboost-test-dev libboost-test1.74-dev\n",
            "  libboost-test1.74.0 libboost-thread-dev libboost-thread1.74-dev\n",
            "  libboost-thread1.74.0 libboost-timer-dev libboost-timer1.74-dev\n",
            "  libboost-timer1.74.0 libboost-tools-dev libboost-type-erasure-dev\n",
            "  libboost-type-erasure1.74-dev libboost-type-erasure1.74.0 libboost-wave-dev\n",
            "  libboost-wave1.74-dev libboost-wave1.74.0 libboost1.74-tools-dev libdaxctl1\n",
            "  libgfapi0 libgfrpc0 libgfxdr0 libgirepository-1.0-1 libglib2.0-bin\n",
            "  libglusterfs0 libjs-sphinxdoc libjs-underscore libndctl6\n",
            "  libpackagekit-glib2-18 libpmem1 libpmemblk1 libpmemobj1 libpolkit-agent-1-0\n",
            "  libpolkit-gobject-1-0 libpython3-stdlib librados2 librbd1 libstemmer0d\n",
            "  libxmlb2 libyaml-0-2 mpi-default-bin mpi-default-dev packagekit pkexec\n",
            "  policykit-1 polkitd python-apt-common python3-minimal python3.10-minimal\n",
            "  tk8.6-blt2.5\n",
            "Use 'sudo apt autoremove' to remove them.\n",
            "The following packages will be REMOVED:\n",
            "  fio libboost-all-dev libboost-mpi-python-dev libboost-mpi-python1.74-dev\n",
            "  libboost-mpi-python1.74.0 libboost-python-dev libboost-python1.74-dev\n",
            "  lsb-release python3 python3-apt python3-blinker python3-cffi-backend\n",
            "  python3-cryptography python3-dbus python3-dev python3-distro\n",
            "  python3-distutils python3-gi python3-httplib2 python3-importlib-metadata\n",
            "  python3-jeepney python3-jwt python3-keyring python3-launchpadlib\n",
            "  python3-lazr.restfulclient python3-lazr.uri python3-lib2to3\n",
            "  python3-more-itertools python3-oauthlib python3-pkg-resources\n",
            "  python3-pyparsing python3-secretstorage python3-six\n",
            "  python3-software-properties python3-tk python3-wadllib python3-zipp\n",
            "  python3.10 python3.10-dev software-properties-common\n",
            "0 upgraded, 0 newly installed, 40 to remove and 49 not upgraded.\n",
            "After this operation, 27.8 MB disk space will be freed.\n",
            "(Reading database ... 123630 files and directories currently installed.)\n",
            "Removing fio (3.28-1) ...\n",
            "Removing libboost-all-dev (1.74.0.3ubuntu7) ...\n",
            "Removing libboost-mpi-python-dev (1.74.0.3ubuntu7) ...\n",
            "Removing libboost-mpi-python1.74-dev (1.74.0-14ubuntu3) ...\n",
            "Removing libboost-mpi-python1.74.0 (1.74.0-14ubuntu3) ...\n",
            "Removing libboost-python-dev (1.74.0.3ubuntu7) ...\n",
            "Removing libboost-python1.74-dev (1.74.0-14ubuntu3) ...\n",
            "Removing software-properties-common (0.99.22.9) ...\n",
            "Removing python3-software-properties (0.99.22.9) ...\n",
            "Removing python3-launchpadlib (1.10.16-1) ...\n",
            "Removing python3-lazr.restfulclient (0.14.4-1) ...\n",
            "Removing python3-distro (1.7.0-1) ...\n",
            "Removing lsb-release (11.1.0ubuntu4) ...\n",
            "Removing python3-dev (3.10.6-1~22.04.1) ...\n",
            "Removing python3-distutils (3.10.8-1~22.04) ...\n",
            "Removing python3-tk:amd64 (3.10.8-1~22.04) ...\n",
            "Removing python3-keyring (23.5.0-1) ...\n",
            "Removing python3-importlib-metadata (4.6.4-1) ...\n",
            "Removing python3-zipp (1.0.0-3ubuntu0.1) ...\n",
            "Removing python3-apt (2.4.0ubuntu4) ...\n",
            "Removing python3-oauthlib (3.2.0-1ubuntu0.1) ...\n",
            "Removing python3-blinker (1.4+dfsg1-0.4) ...\n",
            "Removing python3-secretstorage (3.3.1-1) ...\n",
            "Removing python3-cryptography (3.4.8-1ubuntu2.2) ...\n",
            "Removing python3-cffi-backend:amd64 (1.15.0-1build2) ...\n",
            "Removing python3-dbus (1.2.18-3build1) ...\n",
            "Removing python3-gi (3.42.1-0ubuntu1) ...\n",
            "Removing python3-httplib2 (0.20.2-2) ...\n",
            "Removing python3-wadllib (1.3.6-1) ...\n",
            "Removing python3-lazr.uri (1.0.6-2) ...\n",
            "Removing python3-jeepney (0.7.1-3) ...\n",
            "Removing python3-jwt (2.3.0-1ubuntu0.2) ...\n",
            "Removing python3-lib2to3 (3.10.8-1~22.04) ...\n",
            "Removing python3-more-itertools (8.10.0-2) ...\n",
            "Removing python3-pkg-resources (59.6.0-1.2ubuntu0.22.04.2) ...\n",
            "Removing python3-pyparsing (2.4.7-1) ...\n",
            "Removing python3-six (1.16.0-3ubuntu1) ...\n",
            "Removing python3.10-dev (3.10.12-1~22.04.7) ...\n",
            "Removing python3 (3.10.6-1~22.04.1) ...\n",
            "Removing python3.10 (3.10.12-1~22.04.7) ...\n",
            "dpkg: warning: while removing python3.10, directory '/usr/lib/python3/dist-packages' not empty so not removed\n",
            "Processing triggers for man-db (2.10.2-1) ...\n",
            "Processing triggers for dbus (1.12.20-2ubuntu4.1) ...\n",
            "Processing triggers for libc-bin (2.35-0ubuntu3.4) ...\n",
            "/sbin/ldconfig.real: /usr/local/lib/libtbb.so.12 is not a symbolic link\n",
            "\n",
            "/sbin/ldconfig.real: /usr/local/lib/libumf.so.0 is not a symbolic link\n",
            "\n",
            "/sbin/ldconfig.real: /usr/local/lib/libtbbmalloc.so.2 is not a symbolic link\n",
            "\n",
            "/sbin/ldconfig.real: /usr/local/lib/libur_loader.so.0 is not a symbolic link\n",
            "\n",
            "/sbin/ldconfig.real: /usr/local/lib/libtbbbind_2_5.so.3 is not a symbolic link\n",
            "\n",
            "/sbin/ldconfig.real: /usr/local/lib/libtcm_debug.so.1 is not a symbolic link\n",
            "\n",
            "/sbin/ldconfig.real: /usr/local/lib/libur_adapter_level_zero.so.0 is not a symbolic link\n",
            "\n",
            "/sbin/ldconfig.real: /usr/local/lib/libur_adapter_opencl.so.0 is not a symbolic link\n",
            "\n",
            "/sbin/ldconfig.real: /usr/local/lib/libtbbbind_2_0.so.3 is not a symbolic link\n",
            "\n",
            "/sbin/ldconfig.real: /usr/local/lib/libtbbmalloc_proxy.so.2 is not a symbolic link\n",
            "\n",
            "/sbin/ldconfig.real: /usr/local/lib/libtcm.so.1 is not a symbolic link\n",
            "\n",
            "/sbin/ldconfig.real: /usr/local/lib/libtbbbind.so.3 is not a symbolic link\n",
            "\n",
            "/sbin/ldconfig.real: /usr/local/lib/libhwloc.so.15 is not a symbolic link\n",
            "\n",
            "Reading package lists... Done\n",
            "Building dependency tree... Done\n",
            "Reading state information... Done\n",
            "The following packages were automatically installed and are no longer required:\n",
            "  blt distro-info-data gir1.2-glib-2.0 gir1.2-packagekitglib-1.0 libaio1\n",
            "  libappstream4 libboost-atomic-dev libboost-atomic1.74-dev\n",
            "  libboost-atomic1.74.0 libboost-chrono-dev libboost-chrono1.74-dev\n",
            "  libboost-chrono1.74.0 libboost-container-dev libboost-container1.74-dev\n",
            "  libboost-container1.74.0 libboost-context-dev libboost-context1.74-dev\n",
            "  libboost-context1.74.0 libboost-coroutine-dev libboost-coroutine1.74-dev\n",
            "  libboost-coroutine1.74.0 libboost-date-time-dev libboost-date-time1.74-dev\n",
            "  libboost-date-time1.74.0 libboost-exception-dev libboost-exception1.74-dev\n",
            "  libboost-fiber-dev libboost-fiber1.74-dev libboost-fiber1.74.0\n",
            "  libboost-filesystem-dev libboost-filesystem1.74-dev\n",
            "  libboost-filesystem1.74.0 libboost-graph-dev libboost-graph-parallel-dev\n",
            "  libboost-graph-parallel1.74-dev libboost-graph-parallel1.74.0\n",
            "  libboost-graph1.74-dev libboost-graph1.74.0 libboost-iostreams-dev\n",
            "  libboost-iostreams1.74-dev libboost-iostreams1.74.0 libboost-locale-dev\n",
            "  libboost-locale1.74-dev libboost-locale1.74.0 libboost-log-dev\n",
            "  libboost-log1.74-dev libboost-log1.74.0 libboost-math-dev\n",
            "  libboost-math1.74-dev libboost-math1.74.0 libboost-mpi-dev\n",
            "  libboost-mpi1.74-dev libboost-mpi1.74.0 libboost-nowide-dev\n",
            "  libboost-nowide1.74-dev libboost-nowide1.74.0 libboost-numpy-dev\n",
            "  libboost-numpy1.74-dev libboost-numpy1.74.0 libboost-program-options-dev\n",
            "  libboost-program-options1.74-dev libboost-program-options1.74.0\n",
            "  libboost-python1.74.0 libboost-random-dev libboost-random1.74-dev\n",
            "  libboost-random1.74.0 libboost-regex-dev libboost-regex1.74-dev\n",
            "  libboost-regex1.74.0 libboost-serialization-dev\n",
            "  libboost-serialization1.74-dev libboost-serialization1.74.0\n",
            "  libboost-stacktrace-dev libboost-stacktrace1.74-dev\n",
            "  libboost-stacktrace1.74.0 libboost-system-dev libboost-system1.74-dev\n",
            "  libboost-system1.74.0 libboost-test-dev libboost-test1.74-dev\n",
            "  libboost-test1.74.0 libboost-thread-dev libboost-thread1.74-dev\n",
            "  libboost-thread1.74.0 libboost-timer-dev libboost-timer1.74-dev\n",
            "  libboost-timer1.74.0 libboost-tools-dev libboost-type-erasure-dev\n",
            "  libboost-type-erasure1.74-dev libboost-type-erasure1.74.0 libboost-wave-dev\n",
            "  libboost-wave1.74-dev libboost-wave1.74.0 libboost1.74-tools-dev libdaxctl1\n",
            "  libgfapi0 libgfrpc0 libgfxdr0 libgirepository-1.0-1 libglib2.0-bin\n",
            "  libglusterfs0 libjs-sphinxdoc libjs-underscore libndctl6\n",
            "  libpackagekit-glib2-18 libpmem1 libpmemblk1 libpmemobj1 libpolkit-agent-1-0\n",
            "  libpolkit-gobject-1-0 libpython3-stdlib librados2 librbd1 libstemmer0d\n",
            "  libxmlb2 libyaml-0-2 mpi-default-bin mpi-default-dev packagekit pkexec\n",
            "  policykit-1 polkitd python-apt-common python3-minimal python3.10-minimal\n",
            "  tk8.6-blt2.5\n",
            "Use 'sudo apt autoremove' to remove them.\n",
            "The following additional packages will be installed:\n",
            "  libpython3.7-minimal libpython3.7-stdlib mailcap mime-support\n",
            "  python3.7-minimal\n",
            "Suggested packages:\n",
            "  python3.7-venv binfmt-support\n",
            "The following NEW packages will be installed:\n",
            "  libpython3.7-minimal libpython3.7-stdlib mailcap mime-support python3.7\n",
            "  python3.7-minimal\n",
            "0 upgraded, 6 newly installed, 0 to remove and 49 not upgraded.\n",
            "Need to get 4,698 kB of archives.\n",
            "After this operation, 17.8 MB of additional disk space will be used.\n",
            "Get:1 http://archive.ubuntu.com/ubuntu jammy/main amd64 mailcap all 3.70+nmu1ubuntu1 [23.8 kB]\n",
            "Get:2 http://archive.ubuntu.com/ubuntu jammy/main amd64 mime-support all 3.66 [3,696 B]\n",
            "Get:3 https://ppa.launchpadcontent.net/deadsnakes/ppa/ubuntu jammy/main amd64 libpython3.7-minimal amd64 3.7.17-1+jammy1 [608 kB]\n",
            "Get:4 https://ppa.launchpadcontent.net/deadsnakes/ppa/ubuntu jammy/main amd64 python3.7-minimal amd64 3.7.17-1+jammy1 [1,837 kB]\n",
            "Get:5 https://ppa.launchpadcontent.net/deadsnakes/ppa/ubuntu jammy/main amd64 libpython3.7-stdlib amd64 3.7.17-1+jammy1 [1,864 kB]\n",
            "Get:6 https://ppa.launchpadcontent.net/deadsnakes/ppa/ubuntu jammy/main amd64 python3.7 amd64 3.7.17-1+jammy1 [362 kB]\n",
            "Fetched 4,698 kB in 2s (2,205 kB/s)\n",
            "debconf: unable to initialize frontend: Dialog\n",
            "debconf: (No usable dialog-like program is installed, so the dialog based frontend cannot be used. at /usr/share/perl5/Debconf/FrontEnd/Dialog.pm line 78, <> line 6.)\n",
            "debconf: falling back to frontend: Readline\n",
            "debconf: unable to initialize frontend: Readline\n",
            "debconf: (This frontend requires a controlling tty.)\n",
            "debconf: falling back to frontend: Teletype\n",
            "dpkg-preconfigure: unable to re-open stdin: \n",
            "Selecting previously unselected package libpython3.7-minimal:amd64.\n",
            "(Reading database ... 122264 files and directories currently installed.)\n",
            "Preparing to unpack .../0-libpython3.7-minimal_3.7.17-1+jammy1_amd64.deb ...\n",
            "Unpacking libpython3.7-minimal:amd64 (3.7.17-1+jammy1) ...\n",
            "Selecting previously unselected package python3.7-minimal.\n",
            "Preparing to unpack .../1-python3.7-minimal_3.7.17-1+jammy1_amd64.deb ...\n",
            "Unpacking python3.7-minimal (3.7.17-1+jammy1) ...\n",
            "Selecting previously unselected package mailcap.\n",
            "Preparing to unpack .../2-mailcap_3.70+nmu1ubuntu1_all.deb ...\n",
            "Unpacking mailcap (3.70+nmu1ubuntu1) ...\n",
            "Selecting previously unselected package mime-support.\n",
            "Preparing to unpack .../3-mime-support_3.66_all.deb ...\n",
            "Unpacking mime-support (3.66) ...\n",
            "Selecting previously unselected package libpython3.7-stdlib:amd64.\n",
            "Preparing to unpack .../4-libpython3.7-stdlib_3.7.17-1+jammy1_amd64.deb ...\n",
            "Unpacking libpython3.7-stdlib:amd64 (3.7.17-1+jammy1) ...\n",
            "Selecting previously unselected package python3.7.\n",
            "Preparing to unpack .../5-python3.7_3.7.17-1+jammy1_amd64.deb ...\n",
            "Unpacking python3.7 (3.7.17-1+jammy1) ...\n",
            "Setting up libpython3.7-minimal:amd64 (3.7.17-1+jammy1) ...\n",
            "Setting up python3.7-minimal (3.7.17-1+jammy1) ...\n",
            "Setting up mailcap (3.70+nmu1ubuntu1) ...\n",
            "Setting up mime-support (3.66) ...\n",
            "Setting up libpython3.7-stdlib:amd64 (3.7.17-1+jammy1) ...\n",
            "Setting up python3.7 (3.7.17-1+jammy1) ...\n",
            "Processing triggers for man-db (2.10.2-1) ...\n"
          ]
        }
      ]
    },
    {
      "cell_type": "code",
      "source": [
        "!sudo ln -sf /usr/bin/python3.7 /usr/bin/python3"
      ],
      "metadata": {
        "id": "J5H4y_HrHoBn"
      },
      "execution_count": 3,
      "outputs": []
    },
    {
      "cell_type": "code",
      "source": [
        "!python --version"
      ],
      "metadata": {
        "id": "TFuoFjV8HoEo",
        "outputId": "0d8e6b83-6fbd-42ea-8e36-26d0aa3be18c",
        "colab": {
          "base_uri": "https://localhost:8080/"
        }
      },
      "execution_count": 4,
      "outputs": [
        {
          "output_type": "stream",
          "name": "stdout",
          "text": [
            "Python 3.7.17\n"
          ]
        }
      ]
    },
    {
      "cell_type": "code",
      "source": [
        "!sudo apt-get install python3.7-distutils\n",
        "!wget https://bootstrap.pypa.io/pip/3.7/get-pip.py\n",
        "!python get-pip.py\n"
      ],
      "metadata": {
        "id": "0WehZTWRH7zH",
        "outputId": "257504da-305b-4dcc-f2f3-51ca2cf75277",
        "colab": {
          "base_uri": "https://localhost:8080/"
        }
      },
      "execution_count": 9,
      "outputs": [
        {
          "output_type": "stream",
          "name": "stdout",
          "text": [
            "Reading package lists... Done\n",
            "Building dependency tree... Done\n",
            "Reading state information... Done\n",
            "python3.7-distutils is already the newest version (3.7.17-1+jammy1).\n",
            "The following packages were automatically installed and are no longer required:\n",
            "  blt distro-info-data gir1.2-glib-2.0 gir1.2-packagekitglib-1.0 libaio1\n",
            "  libappstream4 libboost-atomic-dev libboost-atomic1.74-dev\n",
            "  libboost-atomic1.74.0 libboost-chrono-dev libboost-chrono1.74-dev\n",
            "  libboost-chrono1.74.0 libboost-container-dev libboost-container1.74-dev\n",
            "  libboost-container1.74.0 libboost-context-dev libboost-context1.74-dev\n",
            "  libboost-context1.74.0 libboost-coroutine-dev libboost-coroutine1.74-dev\n",
            "  libboost-coroutine1.74.0 libboost-date-time-dev libboost-date-time1.74-dev\n",
            "  libboost-date-time1.74.0 libboost-exception-dev libboost-exception1.74-dev\n",
            "  libboost-fiber-dev libboost-fiber1.74-dev libboost-fiber1.74.0\n",
            "  libboost-filesystem-dev libboost-filesystem1.74-dev\n",
            "  libboost-filesystem1.74.0 libboost-graph-dev libboost-graph-parallel-dev\n",
            "  libboost-graph-parallel1.74-dev libboost-graph-parallel1.74.0\n",
            "  libboost-graph1.74-dev libboost-graph1.74.0 libboost-iostreams-dev\n",
            "  libboost-iostreams1.74-dev libboost-iostreams1.74.0 libboost-locale-dev\n",
            "  libboost-locale1.74-dev libboost-locale1.74.0 libboost-log-dev\n",
            "  libboost-log1.74-dev libboost-log1.74.0 libboost-math-dev\n",
            "  libboost-math1.74-dev libboost-math1.74.0 libboost-mpi-dev\n",
            "  libboost-mpi1.74-dev libboost-mpi1.74.0 libboost-nowide-dev\n",
            "  libboost-nowide1.74-dev libboost-nowide1.74.0 libboost-numpy-dev\n",
            "  libboost-numpy1.74-dev libboost-numpy1.74.0 libboost-program-options-dev\n",
            "  libboost-program-options1.74-dev libboost-program-options1.74.0\n",
            "  libboost-python1.74.0 libboost-random-dev libboost-random1.74-dev\n",
            "  libboost-random1.74.0 libboost-regex-dev libboost-regex1.74-dev\n",
            "  libboost-regex1.74.0 libboost-serialization-dev\n",
            "  libboost-serialization1.74-dev libboost-serialization1.74.0\n",
            "  libboost-stacktrace-dev libboost-stacktrace1.74-dev\n",
            "  libboost-stacktrace1.74.0 libboost-system-dev libboost-system1.74-dev\n",
            "  libboost-system1.74.0 libboost-test-dev libboost-test1.74-dev\n",
            "  libboost-test1.74.0 libboost-thread-dev libboost-thread1.74-dev\n",
            "  libboost-thread1.74.0 libboost-timer-dev libboost-timer1.74-dev\n",
            "  libboost-timer1.74.0 libboost-tools-dev libboost-type-erasure-dev\n",
            "  libboost-type-erasure1.74-dev libboost-type-erasure1.74.0 libboost-wave-dev\n",
            "  libboost-wave1.74-dev libboost-wave1.74.0 libboost1.74-tools-dev libdaxctl1\n",
            "  libgfapi0 libgfrpc0 libgfxdr0 libgirepository-1.0-1 libglib2.0-bin\n",
            "  libglusterfs0 libjs-sphinxdoc libjs-underscore libndctl6\n",
            "  libpackagekit-glib2-18 libpmem1 libpmemblk1 libpmemobj1 libpolkit-agent-1-0\n",
            "  libpolkit-gobject-1-0 libpython3-stdlib librados2 librbd1 libstemmer0d\n",
            "  libxmlb2 libyaml-0-2 mpi-default-bin mpi-default-dev packagekit pkexec\n",
            "  policykit-1 polkitd python-apt-common python3-minimal python3.10-minimal\n",
            "  tk8.6-blt2.5\n",
            "Use 'sudo apt autoremove' to remove them.\n",
            "0 upgraded, 0 newly installed, 0 to remove and 49 not upgraded.\n",
            "--2024-12-02 20:47:35--  https://bootstrap.pypa.io/pip/3.7/get-pip.py\n",
            "Resolving bootstrap.pypa.io (bootstrap.pypa.io)... 151.101.0.175, 151.101.64.175, 151.101.128.175, ...\n",
            "Connecting to bootstrap.pypa.io (bootstrap.pypa.io)|151.101.0.175|:443... connected.\n",
            "HTTP request sent, awaiting response... 200 OK\n",
            "Length: 2636033 (2.5M) [text/x-python]\n",
            "Saving to: ‘get-pip.py’\n",
            "\n",
            "get-pip.py          100%[===================>]   2.51M  --.-KB/s    in 0.05s   \n",
            "\n",
            "2024-12-02 20:47:35 (49.4 MB/s) - ‘get-pip.py’ saved [2636033/2636033]\n",
            "\n",
            "Collecting pip<24.1\n",
            "  Downloading pip-24.0-py3-none-any.whl.metadata (3.6 kB)\n",
            "Collecting setuptools\n",
            "  Downloading setuptools-68.0.0-py3-none-any.whl.metadata (6.4 kB)\n",
            "Collecting wheel\n",
            "  Downloading wheel-0.42.0-py3-none-any.whl.metadata (2.2 kB)\n",
            "Downloading pip-24.0-py3-none-any.whl (2.1 MB)\n",
            "\u001b[2K   \u001b[90m━━━━━━━━━━━━━━━━━━━━━━━━━━━━━━━━━━━━━━━━\u001b[0m \u001b[32m2.1/2.1 MB\u001b[0m \u001b[31m11.4 MB/s\u001b[0m eta \u001b[36m0:00:00\u001b[0m\n",
            "\u001b[?25hDownloading setuptools-68.0.0-py3-none-any.whl (804 kB)\n",
            "\u001b[2K   \u001b[90m━━━━━━━━━━━━━━━━━━━━━━━━━━━━━━━━━━━━━━━━\u001b[0m \u001b[32m804.0/804.0 kB\u001b[0m \u001b[31m16.5 MB/s\u001b[0m eta \u001b[36m0:00:00\u001b[0m\n",
            "\u001b[?25hDownloading wheel-0.42.0-py3-none-any.whl (65 kB)\n",
            "\u001b[2K   \u001b[90m━━━━━━━━━━━━━━━━━━━━━━━━━━━━━━━━━━━━━━━━\u001b[0m \u001b[32m65.4/65.4 kB\u001b[0m \u001b[31m6.3 MB/s\u001b[0m eta \u001b[36m0:00:00\u001b[0m\n",
            "\u001b[?25hInstalling collected packages: wheel, setuptools, pip\n",
            "Successfully installed pip-24.0 setuptools-68.0.0 wheel-0.42.0\n"
          ]
        }
      ]
    },
    {
      "cell_type": "code",
      "source": [
        "!python -m pip --version"
      ],
      "metadata": {
        "id": "fjVjIPL8IWdF",
        "outputId": "504a798e-4e7d-43cf-bc1d-62ef73a79061",
        "colab": {
          "base_uri": "https://localhost:8080/"
        }
      },
      "execution_count": 10,
      "outputs": [
        {
          "output_type": "stream",
          "name": "stdout",
          "text": [
            "pip 24.0 from /usr/local/lib/python3.7/dist-packages/pip (python 3.7)\n"
          ]
        }
      ]
    },
    {
      "cell_type": "code",
      "source": [
        "!pip3 install deepspeech"
      ],
      "metadata": {
        "id": "AVoPfd1T5RNO",
        "outputId": "fcc10be6-d1c7-42ab-aabc-c725c8e33b6c",
        "colab": {
          "base_uri": "https://localhost:8080/"
        }
      },
      "execution_count": 15,
      "outputs": [
        {
          "output_type": "stream",
          "name": "stdout",
          "text": [
            "Requirement already satisfied: deepspeech in /usr/local/lib/python3.7/dist-packages (0.9.3)\n",
            "Requirement already satisfied: numpy>=1.14.5 in /usr/local/lib/python3.7/dist-packages (from deepspeech) (1.21.6)\n"
          ]
        }
      ]
    },
    {
      "cell_type": "code",
      "source": [
        "import sys\n",
        "sys.path.insert(0, '/usr/local/lib/python3.7/dist-packages')"
      ],
      "metadata": {
        "id": "atCsLshnIemt"
      },
      "execution_count": 16,
      "outputs": []
    },
    {
      "cell_type": "code",
      "metadata": {
        "id": "CrH9g0n1hzpK",
        "outputId": "bad81b22-100c-43f1-8677-62d33c6efa78",
        "colab": {
          "base_uri": "https://localhost:8080/",
          "height": 560
        }
      },
      "source": [
        "from __future__ import absolute_import, division, print_function\n",
        "\n",
        "import os\n",
        "import numpy as np\n",
        "import shlex\n",
        "import subprocess\n",
        "import sys\n",
        "import wave\n",
        "\n",
        "#!pip install deepspeech\n",
        "from deepspeech import Model, printVersions\n",
        "from timeit import default_timer as timer\n",
        "\n",
        "# audio converters\n",
        "!apt update && apt-get install ffmpeg mpg123\n",
        "\n",
        "# sox package for adjusting sample rate.\n",
        "!apt-get install libsox-fmt-all libsox-dev sox\n",
        "\n",
        "# neural network model for acoustic recognition\n",
        "!wget -O - https://github.com/mozilla/DeepSpeech/releases/download/v0.3.0/deepspeech-0.3.0-models.tar.gz | tar xvfz -"
      ],
      "execution_count": 17,
      "outputs": [
        {
          "output_type": "error",
          "ename": "ImportError",
          "evalue": "cannot import name '_impl' from partially initialized module 'deepspeech' (most likely due to a circular import) (/usr/local/lib/python3.7/dist-packages/deepspeech/__init__.py)",
          "traceback": [
            "\u001b[0;31m---------------------------------------------------------------------------\u001b[0m",
            "\u001b[0;31mImportError\u001b[0m                               Traceback (most recent call last)",
            "\u001b[0;32m<ipython-input-17-35c8549918b0>\u001b[0m in \u001b[0;36m<cell line: 11>\u001b[0;34m()\u001b[0m\n\u001b[1;32m      9\u001b[0m \u001b[0;34m\u001b[0m\u001b[0m\n\u001b[1;32m     10\u001b[0m \u001b[0;31m#!pip install deepspeech\u001b[0m\u001b[0;34m\u001b[0m\u001b[0;34m\u001b[0m\u001b[0m\n\u001b[0;32m---> 11\u001b[0;31m \u001b[0;32mfrom\u001b[0m \u001b[0mdeepspeech\u001b[0m \u001b[0;32mimport\u001b[0m \u001b[0mModel\u001b[0m\u001b[0;34m,\u001b[0m \u001b[0mprintVersions\u001b[0m\u001b[0;34m\u001b[0m\u001b[0;34m\u001b[0m\u001b[0m\n\u001b[0m\u001b[1;32m     12\u001b[0m \u001b[0;32mfrom\u001b[0m \u001b[0mtimeit\u001b[0m \u001b[0;32mimport\u001b[0m \u001b[0mdefault_timer\u001b[0m \u001b[0;32mas\u001b[0m \u001b[0mtimer\u001b[0m\u001b[0;34m\u001b[0m\u001b[0;34m\u001b[0m\u001b[0m\n\u001b[1;32m     13\u001b[0m \u001b[0;34m\u001b[0m\u001b[0m\n",
            "\u001b[0;32m/usr/local/lib/python3.7/dist-packages/deepspeech/__init__.py\u001b[0m in \u001b[0;36m<module>\u001b[0;34m\u001b[0m\n\u001b[1;32m     21\u001b[0m \u001b[0;34m\u001b[0m\u001b[0m\n\u001b[1;32m     22\u001b[0m \u001b[0;31m# rename for backwards compatibility\u001b[0m\u001b[0;34m\u001b[0m\u001b[0;34m\u001b[0m\u001b[0m\n\u001b[0;32m---> 23\u001b[0;31m \u001b[0;32mfrom\u001b[0m \u001b[0mdeepspeech\u001b[0m\u001b[0;34m.\u001b[0m\u001b[0mimpl\u001b[0m \u001b[0;32mimport\u001b[0m \u001b[0mVersion\u001b[0m \u001b[0;32mas\u001b[0m \u001b[0mversion\u001b[0m\u001b[0;34m\u001b[0m\u001b[0;34m\u001b[0m\u001b[0m\n\u001b[0m\u001b[1;32m     24\u001b[0m \u001b[0;34m\u001b[0m\u001b[0m\n\u001b[1;32m     25\u001b[0m \u001b[0;32mclass\u001b[0m \u001b[0mModel\u001b[0m\u001b[0;34m(\u001b[0m\u001b[0mobject\u001b[0m\u001b[0;34m)\u001b[0m\u001b[0;34m:\u001b[0m\u001b[0;34m\u001b[0m\u001b[0;34m\u001b[0m\u001b[0m\n",
            "\u001b[0;32m/usr/local/lib/python3.7/dist-packages/deepspeech/impl.py\u001b[0m in \u001b[0;36m<module>\u001b[0;34m\u001b[0m\n\u001b[1;32m     11\u001b[0m \u001b[0;31m# Import the low-level C/C++ module\u001b[0m\u001b[0;34m\u001b[0m\u001b[0;34m\u001b[0m\u001b[0m\n\u001b[1;32m     12\u001b[0m \u001b[0;32mif\u001b[0m \u001b[0m__package__\u001b[0m \u001b[0;32mor\u001b[0m \u001b[0;34m\".\"\u001b[0m \u001b[0;32min\u001b[0m \u001b[0m__name__\u001b[0m\u001b[0;34m:\u001b[0m\u001b[0;34m\u001b[0m\u001b[0;34m\u001b[0m\u001b[0m\n\u001b[0;32m---> 13\u001b[0;31m     \u001b[0;32mfrom\u001b[0m \u001b[0;34m.\u001b[0m \u001b[0;32mimport\u001b[0m \u001b[0m_impl\u001b[0m\u001b[0;34m\u001b[0m\u001b[0;34m\u001b[0m\u001b[0m\n\u001b[0m\u001b[1;32m     14\u001b[0m \u001b[0;32melse\u001b[0m\u001b[0;34m:\u001b[0m\u001b[0;34m\u001b[0m\u001b[0;34m\u001b[0m\u001b[0m\n\u001b[1;32m     15\u001b[0m     \u001b[0;32mimport\u001b[0m \u001b[0m_impl\u001b[0m\u001b[0;34m\u001b[0m\u001b[0;34m\u001b[0m\u001b[0m\n",
            "\u001b[0;31mImportError\u001b[0m: cannot import name '_impl' from partially initialized module 'deepspeech' (most likely due to a circular import) (/usr/local/lib/python3.7/dist-packages/deepspeech/__init__.py)",
            "",
            "\u001b[0;31m---------------------------------------------------------------------------\u001b[0;32m\nNOTE: If your import is failing due to a missing package, you can\nmanually install dependencies using either !pip or !apt.\n\nTo view examples of installing some common dependencies, click the\n\"Open Examples\" button below.\n\u001b[0;31m---------------------------------------------------------------------------\u001b[0m\n"
          ],
          "errorDetails": {
            "actions": [
              {
                "action": "open_url",
                "actionText": "Open Examples",
                "url": "/notebooks/snippets/importing_libraries.ipynb"
              }
            ]
          }
        }
      ]
    },
    {
      "cell_type": "markdown",
      "metadata": {
        "id": "fr-SPvuT_nEF"
      },
      "source": [
        "# Accoustic parameters"
      ]
    },
    {
      "cell_type": "code",
      "metadata": {
        "id": "lQFywq8DlIbv"
      },
      "source": [
        "model    = 'models/output_graph.pbmm'\n",
        "alphabet = 'models/alphabet.txt'\n",
        "lm       = 'models/lm.binary'\n",
        "trie     = 'models/trie'\n",
        "\n",
        "# These constants control the beam search decoder\n",
        "\n",
        "# Beam width used in the CTC decoder when building candidate transcriptions\n",
        "BEAM_WIDTH = 500\n",
        "\n",
        "# The alpha hyperparameter of the CTC decoder. Language Model weight\n",
        "LM_WEIGHT = 1.50\n",
        "\n",
        "# Valid word insertion weight. This is used to lessen the word insertion penalty\n",
        "# when the inserted word is part of the vocabulary\n",
        "VALID_WORD_COUNT_WEIGHT = 2.10\n",
        "\n",
        "\n",
        "# These constants are tied to the shape of the graph used (changing them changes\n",
        "# the geometry of the first layer), so make sure you use the same constants that\n",
        "# were used during training\n",
        "\n",
        "# Number of MFCC features to use\n",
        "N_FEATURES = 26\n",
        "\n",
        "# Size of the context window used for producing timesteps in the input vector\n",
        "N_CONTEXT = 9"
      ],
      "execution_count": null,
      "outputs": []
    },
    {
      "cell_type": "markdown",
      "metadata": {
        "id": "QDlyOTMU_um-"
      },
      "source": [
        "# Adapt Sample Rate of Audio File"
      ]
    },
    {
      "cell_type": "code",
      "metadata": {
        "id": "bC5kgGTzlNop"
      },
      "source": [
        "def convert_samplerate(audio_path):\n",
        "    sox_cmd = 'sox {} --type raw --bits 16 --channels 1 --rate 16000 --encoding signed-integer --endian little --compression 0.0 --no-dither - '.format(audio_path)\n",
        "    try:\n",
        "        output = subprocess.check_output(shlex.split(sox_cmd), stderr=subprocess.PIPE)\n",
        "    except subprocess.CalledProcessError as e:\n",
        "        raise RuntimeError('SoX returned non-zero status: {}'.format(e.stderr))\n",
        "    except OSError as e:\n",
        "        raise OSError(e.errno, 'SoX not found, use 16kHz files or install it: {}'.format(e.strerror))\n",
        "\n",
        "    return 16000, np.frombuffer(output, np.int16)\n",
        "\n"
      ],
      "execution_count": null,
      "outputs": []
    },
    {
      "cell_type": "markdown",
      "metadata": {
        "id": "S6WuuR5S_5tu"
      },
      "source": [
        "# Input MP3 Audio File"
      ]
    },
    {
      "cell_type": "code",
      "metadata": {
        "id": "byQfXtXLqD-A",
        "outputId": "f429601a-0bf5-463b-f0b9-c9f7bdaeec9b",
        "colab": {
          "resources": {
            "http://localhost:8080/nbextensions/google.colab/files.js": {
              "data": "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",
              "ok": true,
              "headers": [
                [
                  "content-type",
                  "application/javascript"
                ]
              ],
              "status": 200,
              "status_text": ""
            }
          },
          "base_uri": "https://localhost:8080/",
          "height": 580
        }
      },
      "source": [
        "# upload mp3 audio file.\n",
        "\n",
        "from google.colab import files\n",
        "uploaded = files.upload()\n",
        "for audio in uploaded.keys():\n",
        "  print('User uploaded file \"{name}\" with length {length} bytes'.format(\n",
        "         name=audio, length=len(uploaded[audio])))\n",
        "\n",
        "os.rename(audio, 'speech.mp3')\n",
        "audio = 'speech.wav'\n",
        "\n",
        "# convert to wav file.\n",
        "!ffmpeg -i speech.mp3 -vn -acodec pcm_s16le -ac 1 -ar 16000 -f wav speech.wav\n",
        "#!mpg123 -w speech.wav speech.mp3\n",
        "\n",
        "\n",
        "\n",
        "\n",
        "\n",
        "\n",
        "\n",
        "\n",
        "\n",
        "\n",
        "\n",
        "\n",
        "\n"
      ],
      "execution_count": null,
      "outputs": [
        {
          "output_type": "display_data",
          "data": {
            "text/html": [
              "\n",
              "     <input type=\"file\" id=\"files-a1828473-1b41-4192-a06b-b2859d9bc6b6\" name=\"files[]\" multiple disabled />\n",
              "     <output id=\"result-a1828473-1b41-4192-a06b-b2859d9bc6b6\">\n",
              "      Upload widget is only available when the cell has been executed in the\n",
              "      current browser session. Please rerun this cell to enable.\n",
              "      </output>\n",
              "      <script src=\"/nbextensions/google.colab/files.js\"></script> "
            ],
            "text/plain": [
              "<IPython.core.display.HTML object>"
            ]
          },
          "metadata": {
            "tags": []
          }
        },
        {
          "output_type": "stream",
          "text": [
            "Saving Recording.mp3 to Recording.mp3\n",
            "User uploaded file \"Recording.mp3\" with length 92786 bytes\n",
            "ffmpeg version 3.4.4-0ubuntu0.18.04.1 Copyright (c) 2000-2018 the FFmpeg developers\n",
            "  built with gcc 7 (Ubuntu 7.3.0-16ubuntu3)\n",
            "  configuration: --prefix=/usr --extra-version=0ubuntu0.18.04.1 --toolchain=hardened --libdir=/usr/lib/x86_64-linux-gnu --incdir=/usr/include/x86_64-linux-gnu --enable-gpl --disable-stripping --enable-avresample --enable-avisynth --enable-gnutls --enable-ladspa --enable-libass --enable-libbluray --enable-libbs2b --enable-libcaca --enable-libcdio --enable-libflite --enable-libfontconfig --enable-libfreetype --enable-libfribidi --enable-libgme --enable-libgsm --enable-libmp3lame --enable-libmysofa --enable-libopenjpeg --enable-libopenmpt --enable-libopus --enable-libpulse --enable-librubberband --enable-librsvg --enable-libshine --enable-libsnappy --enable-libsoxr --enable-libspeex --enable-libssh --enable-libtheora --enable-libtwolame --enable-libvorbis --enable-libvpx --enable-libwavpack --enable-libwebp --enable-libx265 --enable-libxml2 --enable-libxvid --enable-libzmq --enable-libzvbi --enable-omx --enable-openal --enable-opengl --enable-sdl2 --enable-libdc1394 --enable-libdrm --enable-libiec61883 --enable-chromaprint --enable-frei0r --enable-libopencv --enable-libx264 --enable-shared\n",
            "  libavutil      55. 78.100 / 55. 78.100\n",
            "  libavcodec     57.107.100 / 57.107.100\n",
            "  libavformat    57. 83.100 / 57. 83.100\n",
            "  libavdevice    57. 10.100 / 57. 10.100\n",
            "  libavfilter     6.107.100 /  6.107.100\n",
            "  libavresample   3.  7.  0 /  3.  7.  0\n",
            "  libswscale      4.  8.100 /  4.  8.100\n",
            "  libswresample   2.  9.100 /  2.  9.100\n",
            "  libpostproc    54.  7.100 / 54.  7.100\n",
            "\u001b[0;35m[mp3 @ 0x556f78cb2000] \u001b[0m\u001b[0;33mEstimating duration from bitrate, this may be inaccurate\n",
            "\u001b[0mInput #0, mp3, from 'speech.mp3':\n",
            "  Duration: 00:00:05.80, start: 0.000000, bitrate: 128 kb/s\n",
            "    Stream #0:0: Audio: mp3, 22050 Hz, mono, s16p, 128 kb/s\n",
            "File 'speech.wav' already exists. Overwrite ? [y/N] Y\n",
            "Stream mapping:\n",
            "  Stream #0:0 -> #0:0 (mp3 (native) -> pcm_s16le (native))\n",
            "Press [q] to stop, [?] for help\n",
            "Output #0, wav, to 'speech.wav':\n",
            "  Metadata:\n",
            "    ISFT            : Lavf57.83.100\n",
            "    Stream #0:0: Audio: pcm_s16le ([1][0][0][0] / 0x0001), 16000 Hz, mono, s16, 256 kb/s\n",
            "    Metadata:\n",
            "      encoder         : Lavc57.107.100 pcm_s16le\n",
            "size=     181kB time=00:00:05.79 bitrate= 256.1kbits/s speed= 601x    \n",
            "video:0kB audio:181kB subtitle:0kB other streams:0kB global headers:0kB muxing overhead: 0.042032%\n"
          ],
          "name": "stdout"
        }
      ]
    },
    {
      "cell_type": "markdown",
      "metadata": {
        "id": "kI1ufWC4AAsq"
      },
      "source": [
        "# Convert MP3 to Text"
      ]
    },
    {
      "cell_type": "code",
      "metadata": {
        "id": "aubQx7CilQGF",
        "outputId": "89a3ee2e-0f76-4a9c-b77a-bc3b491c5919",
        "colab": {
          "base_uri": "https://localhost:8080/",
          "height": 222
        }
      },
      "source": [
        "    print('Loading model from file {}'.format(model), file=sys.stderr)\n",
        "    model_load_start = timer()\n",
        "    ds = Model(model, N_FEATURES, N_CONTEXT, alphabet, BEAM_WIDTH)\n",
        "    model_load_end = timer() - model_load_start\n",
        "    print('Loaded model in {:.3}s.'.format(model_load_end), file=sys.stderr)\n",
        "\n",
        "    if lm and trie:\n",
        "        print('Loading language model from files {} {}'.format(lm, trie), file=sys.stderr)\n",
        "        lm_load_start = timer()\n",
        "        ds.enableDecoderWithLM(alphabet, lm, trie, LM_WEIGHT,\n",
        "                               VALID_WORD_COUNT_WEIGHT)\n",
        "        lm_load_end = timer() - lm_load_start\n",
        "        print('Loaded language model in {:.3}s.'.format(lm_load_end), file=sys.stderr)\n",
        "\n",
        "    fin = wave.open(audio, 'rb')\n",
        "    fs = fin.getframerate()\n",
        "    if fs != 16000:\n",
        "        print('Warning: original sample rate ({}) is different than 16kHz. Resampling might produce erratic speech recognition.'.format(fs), file=sys.stderr)\n",
        "        fs, audio = convert_samplerate(audio)\n",
        "    else:\n",
        "        audio = np.frombuffer(fin.readframes(fin.getnframes()), np.int16)\n",
        "\n",
        "    audio_length = fin.getnframes() * (1/16000)\n",
        "    fin.close()\n",
        "\n",
        "    print('Running inference.', file=sys.stderr)\n",
        "    print('================================\\n')\n",
        "    inference_start = timer()\n",
        "    print(ds.stt(audio, fs))\n",
        "    inference_end = timer() - inference_start\n",
        "    print('\\n================================')\n",
        "    print('Inference took %0.3fs for %0.3fs audio file.' % (inference_end, audio_length), file=sys.stderr)"
      ],
      "execution_count": null,
      "outputs": [
        {
          "output_type": "stream",
          "text": [
            "Loading model from file models/output_graph.pbmm\n",
            "Loaded model in 0.015s.\n",
            "Loading language model from files models/lm.binary models/trie\n",
            "Loaded language model in 0.0891s.\n",
            "Running inference.\n"
          ],
          "name": "stderr"
        },
        {
          "output_type": "stream",
          "text": [
            "================================\n",
            "\n",
            "vkblalblalblalblalblalblalblalblalblalblalblalblalblalblalblalblalblalblalblalblalblalblalblalblalblalblalblbmfoynwvxuqynejt gh' tomhjcmaanalblalblalblbmeozndldnzmdlctvpdlpynejt gh' qpalblalblalblalblalblbmfoyodlbpvqynejs'aotxuqynejswcldn'mdldnzmdlctvpdh' kzsxakblalblalblalblalblalblalblalblaqc\n",
            "\n",
            "================================\n"
          ],
          "name": "stdout"
        },
        {
          "output_type": "stream",
          "text": [
            "Inference took 5.440s for 5.909s audio file.\n"
          ],
          "name": "stderr"
        }
      ]
    }
  ]
}